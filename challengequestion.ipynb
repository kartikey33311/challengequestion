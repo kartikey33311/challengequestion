{
  "nbformat": 4,
  "nbformat_minor": 0,
  "metadata": {
    "colab": {
      "provenance": [],
      "authorship_tag": "ABX9TyNWozG1cPEusU/Dyme3cGW3",
      "include_colab_link": true
    },
    "kernelspec": {
      "name": "python3",
      "display_name": "Python 3"
    },
    "language_info": {
      "name": "python"
    }
  },
  "cells": [
    {
      "cell_type": "markdown",
      "metadata": {
        "id": "view-in-github",
        "colab_type": "text"
      },
      "source": [
        "<a href=\"https://colab.research.google.com/github/kartikey33311/challengequestion/blob/main/challengequestion.ipynb\" target=\"_parent\"><img src=\"https://colab.research.google.com/assets/colab-badge.svg\" alt=\"Open In Colab\"/></a>"
      ]
    },
    {
      "cell_type": "code",
      "execution_count": 1,
      "metadata": {
        "colab": {
          "base_uri": "https://localhost:8080/"
        },
        "id": "km4SoxBjjZg7",
        "outputId": "c7477b5b-a33d-4487-abb7-587833d861ac"
      },
      "outputs": [
        {
          "output_type": "stream",
          "name": "stdout",
          "text": [
            "[1, 2, 3]\n",
            "['ram', 'shyam', 'aman']\n",
            "[1, 2, 3, 'ram', 'shyam', 'aman']\n"
          ]
        }
      ],
      "source": [
        "L = [\"ram\",1,\"shyam\",2,\"aman\",3]\n",
        "L1 = []\n",
        "L2 = []\n",
        "\n",
        "for i in L:\n",
        "  try:L1.append(int(i))\n",
        "  except:\n",
        "    L2.append(i)\n",
        "\n",
        "print (L1)\n",
        "print (L2)\n",
        "\n",
        "L3 = L1+L2\n",
        "print (L3)"
      ]
    }
  ]
}